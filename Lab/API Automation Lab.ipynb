{
 "cells": [
  {
   "cell_type": "markdown",
   "id": "639ec94a",
   "metadata": {
    "id": "dc82502d-0ad3-4403-b689-fc161a6e21ee"
   },
   "source": [
    "<div style=\"text-align: center;\">\n",
    "    <img src=\"https://i.imgur.com/HzcN2fw.jpeg\" alt=\"Title\"\"\n",
    "         style=\"padding: 1rem;\"/>\n",
    "</div>\n",
    "\n",
    "   "
   ]
  },
  {
   "cell_type": "markdown",
   "id": "09bd3c93",
   "metadata": {},
   "source": [
    "# IBM Data Intelligence Lab: Automating Data Governance and Discovery\n",
    "\n",
    "Welcome to the **IBM Data Intelligence Lab**. This hands-on experience demonstrates how IBM’s advanced tools—centered around <b>watson<span style=\"color:#0f62fe\">x</span>.data intelligence</b>—can streamline and automate your organization’s data governance workflow from end to end. By leveraging Application Programming Interfaces (APIs), this lab guides you through a seamless process to connect, organize, enrich, and share your data, ensuring it is business-ready and compliant with governance standards.\n",
    "\n",
    "## Purpose\n",
    "The objective is to illustrate how users can leverage APIs (Application Programming Interfaces) to automate the entire lifecycle of managing enterprise data. Think of this as deploying a team of digital assistants to handle everything from workspace setup to data organization, metadata enrichment, and cataloging for secure team access. <b>watson<span style=\"color:#0f62fe\">x</span>.data intelligence</b> is the focal point, supported by **IBM Data Product Hub** and **<b>watson<span style=\"color:#0f62fe\">x</span>.data intelligence</b> Data Lineage**.\n",
    "\n",
    "<table style=\"font-family:'IBM Plex Sans',Arial,sans-serif;border:collapse;width:100%;margin-bottom:2em;background:#f4f4f4;color:#161616;overflow:hidden;box-shadow:0 2px 8px rgba(0,0,0,0.08);\">\n",
    "  <caption style=\"caption-side:top;text-align:left;font-size:1.2em;color:#161616;margin-bottom:0.5em;font-weight:700;\">\n",
    "    In this lab, you will learn how to:\n",
    "  </caption>\n",
    "  <thead>\n",
    "    <tr>\n",
    "      <th style=\"background:#E0E0E0;color:#161616;text-align:left;font-weight:400;padding:12px 10px;border-bottom:2px solid #F4F4F4;\">Step</th>\n",
    "      <th style=\"background:#E0E0E0;color:#161616;text-align:left;font-weight:400;padding:12px 10px;border-bottom:2px solid #F4F4F4;\">Description</th>\n",
    "    </tr>\n",
    "  </thead>\n",
    "  <tbody>\n",
    "    <tr style=\"background:#F4F4F4;\">\n",
    "      <td style=\"padding:10px;border-bottom:1px solid #F4F4F4;\">Set up your workspace</td>\n",
    "      <td style=\"padding:10px;border-bottom:1px solid #F4F4F4;\">\n",
    "        Configure the environment so <b>watson<span style=\"color:#0f62fe\">x</span>.data intelligence</b> recognizes your identity and data sources.\n",
    "      </td>\n",
    "    </tr>\n",
    "    <tr style=\"background:#F4F4F4;\">\n",
    "      <td style=\"padding:10px;border-bottom:1px solid #F4F4F4;\">Connect your data</td>\n",
    "      <td style=\"padding:10px;border-bottom:1px solid #F4F4F4;\">\n",
    "        Establish connections to storage systems and databases containing your business information.\n",
    "      </td>\n",
    "    </tr>\n",
    "    <tr style=\"background:#F4F4F4;\">\n",
    "      <td style=\"padding:10px;border-bottom:1px solid #F4F4F4;\">Import metadata</td>\n",
    "      <td style=\"padding:10px;border-bottom:1px solid #F4F4F4;\">\n",
    "        Load descriptive information about your data (metadata) to facilitate organization within <b>watson<span style=\"color:#0f62fe\">x</span>.data intelligence</b>.\n",
    "      </td>\n",
    "    </tr>\n",
    "    <tr style=\"background:#F4F4F4;\">\n",
    "      <td style=\"padding:10px;border-bottom:1px solid #F4F4F4;\">Enrich your data</td>\n",
    "      <td style=\"padding:10px;border-bottom:1px solid #F4F4F4;\">\n",
    "        Add and enhance metadata to improve data utility and reliability.\n",
    "      </td>\n",
    "    </tr>\n",
    "    <tr style=\"background:#F4F4F4;\">\n",
    "      <td style=\"padding:10px;\">Share your data</td>\n",
    "      <td style=\"padding:10px;\">\n",
    "        Publish curated data assets in a digital catalog for secure team access.\n",
    "      </td>\n",
    "    </tr>\n",
    "  </tbody>\n",
    "  \n",
    "</table>"
   ]
  },
  {
   "cell_type": "markdown",
   "id": "44ed8c86",
   "metadata": {},
   "source": [
    "## Importance\n",
    "Data is a vital asset for modern organizations, but its true value is realized only when it is well-organized, easily discoverable, and compliant with internal policies such as privacy and quality standards. <b>watson<span style=\"color:#0f62fe\">x</span>.data intelligence</b> automates these processes, enhancing efficiency and minimizing errors. Once your data is prepared, **IBM Data Product Hub** enables secure sharing, while **<b>watson<span style=\"color:#0f62fe\">x</span>.data intelligence</b> Data Lineage** ensures transparency and traceability throughout your organization.\n",
    "\n",
    "## Lab Overview\n",
    "This lab is structured into six key sections, each building upon the previous to deliver a fully automated data governance workflow:\n",
    "\n",
    "1. **Configuration and Authentication**: Set up tools and authenticate with IBM Cloud Pak for Data (CPD).\n",
    "2. **Connecting Data Sources**: Link <b>watson<span style=\"color:#0f62fe\">x</span>.data intelligence</b> to your data repositories.\n",
    "3. **Importing Metadata**: Load metadata to provide context for enrichment and profiling of data assets.\n",
    "4. **Metadata Enrichment**: Enhance your data with imported metadata using <b>watson<span style=\"color:#0f62fe\">x</span>.data intelligence</b> Data Governance and Catalog.\n",
    "5. **Processing Metadata**: Allow the system to complete enrichment tasks.\n",
    "6. **Publishing Data Assets**: Publish governed data assets to the catalog, making them available for team use.\n",
    "\n",
    "By the end of this lab, you will have a catalog of governed data assets, ready for analytics, reporting, or sharing via IBM Data Product Hub, with **<b>watson<span style=\"color:#0f62fe\">x</span>.data intelligence</b> Data Lineage** providing comprehensive visibility into data provenance.\n",
    "\n",
    "## Table of Contents\n",
    "Below is a clickable guide to each section of the lab. In a Jupyter Notebook, you can click these links to navigate directly to each part:\n",
    "\n",
    "- [Prerequisites](#prerequisites)\n",
    "- [Section 1: Configuration and Authentication](#section-1-configuration-and-authentication)\n",
    "- [Section 2: Connecting Data Sources to watsonx.data intelligence](#section-2-connecting-data-sources-to-ibm-knowledge-catalog)\n",
    "- [Section 3: Importing Data Details into watsonx.data intelligence](#section-3-importing-data-metadata-into-ibm-knowledge-catalog)\n",
    "- [Section 4: Adding Extra Information to Your Data](#section-4-adding-extra-information-to-your-data)\n",
    "- [Section 5: Waiting for the Extra Metadata to Finish](#section-5-waiting-for-the-extra-metadata-to-finish)\n",
    "- [Section 6: Sharing Your Data with watsonx.data intelligence](#section-6-sharing-your-data-with-ibm-knowledge-catalog)\n",
    "- [Section 7: Wrapping Up the IBM Data Intelligence Lab](#section-7-wrapping-up-the-ibm-data-intelligence-lab)\n",
    "\n",
    "## How This Lab Works\n",
    "This lab leverages a Python script to instruct <b>watson<span style=\"color:#0f62fe\">x</span>.data intelligence</b> to perform automated tasks via APIs. The script serves as a checklist, executing each step programmatically and providing real-time feedback throughout the process.\n",
    "\n",
    "Let’s begin and discover how <b>watson<span style=\"color:#0f62fe\">x</span>.data intelligence</b> transforms your data into a valuable, governed asset."
   ]
  },
  {
   "cell_type": "markdown",
   "id": "29470a31",
   "metadata": {
    "id": "aff08a85-ad03-4c63-852f-dda54b7e0b91"
   },
   "source": [
    "<div class=\"alert alert-block alert-warning\">\n",
    "<details>\n",
    "    <summary><b>IMPORTANT</b>Click here to access instruction provided on the IBM Data & AI Labs website</summary>\n",
    "\n",
    "Congratulations on reaching the final lab in our <b>watson<span style=\"color:#0f62fe\">x</span>.data intelligence</b> course! Throughout this program, you have gained hands-on experience with the entire data intelligence lifecycle. You’ve manually established governance policies by creating a business glossary, connected to diverse data sources, executed metadata imports to understand your data landscape, and run data profiling and enrichment to improve data quality and business context. Finally, you learned how to publish those trusted, high-quality assets to the catalog for broader consumption.\n",
    "\n",
    "While performing these tasks manually is crucial for understanding the foundational concepts, it is not a scalable approach for enterprise operations. The true value of a data fabric is realized when these workflows are made repeatable, consistent, and efficient through automation. This is where the Watson Data API becomes indispensable.\n",
    "\n",
    "At its core, the **Watson Data API** is a powerful REST API that provides programmatic control over the features and functions within Cloud Pak for Data. It is the engine that allows you to orchestrate complex data management, governance, and analytics workflows using code. In this capstone lab, we will use a Jupyter Notebook to call this API and automate the entire end-to-end process you previously performed by hand.\n",
    "\n",
    "---\n",
    "\n",
    "Once you complete the initial setup outlined in this guide, the Jupyter Notebook will walk you through the following automated sequence:\n",
    "\n",
    "1.  **Configure and Authenticate:** The first step within the notebook is to configure your environment variables. This provides the script with the necessary credentials and endpoints to initialize the import client and securely authenticate with the watsonx.data platform.\n",
    "\n",
    "2.  **Establish the Business Glossary:** With authentication confirmed, you will import a set of governance artifacts from a `.zip` file. This single API call will programmatically create the business terms and categories that serve as the blueprint for your governance framework.\n",
    "\n",
    "3.  **Connect to Data Sources:** Next, you will create connections to three distinct enterprise data sources: **IBM Cloud Object Storage**, **IBM Db2 Warehouse**, and **PostgreSQL**. This step automates the process of registering these sources with your project, making their assets available for discovery.\n",
    "\n",
    "4.  **Execute a Metadata Import:** With connections established, you will run a metadata import. This process scans the connected data sources and brings the technical metadata for all relevant tables and files into your project, giving you a comprehensive view of your data assets.\n",
    "\n",
    "5.  **Perform Metadata Enrichment:** This is where raw metadata is transformed into trusted, business-ready data. The script will automatically assign business terms, data classes, and other governance artifacts to the imported assets, mirroring the manual enrichment process you performed earlier but executed in seconds via an API call.\n",
    "\n",
    "6.  **Publish to the Catalog:** The final step in the automation workflow is to publish the newly connected and enriched data assets to the **Automation** catalog. This makes your high-quality, governed data discoverable and available for use across the enterprise.\n",
    "\n",
    "This lab serves to bridge the gap between manual understanding and operational efficiency. Let's begin by setting up the environment required to run this powerful automation.\n",
    "\n",
    "---\n",
    "\n",
    "## Accessing the Cloud Pak for Data Environment\n",
    "\n",
    "To begin, you will log into the environment and navigate to the Cloud Pak for Data platform where the lab will be conducted. \n",
    "\n",
    "\n",
    "> In this portion of the course we will be working as the **Admin**. Use the log in information below to enter the platform.\n",
    "\n",
    "1.  **Copy** and **Paste** the following into **Username:**\n",
    "\n",
    "    ```markdown\n",
    "    admin\n",
    "    ```\n",
    "\n",
    "2.  **Copy** and **Paste** the following into **Password:**\n",
    "\n",
    "    ```markdown\n",
    "    adminuser\n",
    "    ```\n",
    "\n",
    "![](https://i.imgur.com/H4qjY2d.png)\n",
    "\n",
    "3. Click **Continue**\n",
    "\n",
    "> This will take you to the Software Hub home page. Since this lab takes place inside of **Cloud Pak for Data** we will need to navigate there. \n",
    "\n",
    "4. From the main Software Hub, use the application switcher icon (top left).\n",
    "\n",
    "5. Once the dropdown opens select **Cloud Pak for Data** to navigate to the home page.\n",
    "\n",
    "![](https://i.imgur.com/YVdTAp2.png)\n",
    "\n",
    "---\n",
    "\n",
    "## Environment Preparation\n",
    "\n",
    "A properly configured environment is essential. This section will guide you through creating a new catalog to store data assets and a project to serve as your workspace.\n",
    "\n",
    "### Create the Automation Catalog\n",
    "\n",
    "The first step is to create a catalog. A catalog acts as a centralized, governed repository where data assets are organized and managed.\n",
    "\n",
    "1.  From the Cloud Pak for Data navigation menu (**☰**), select **Catalogs -> All Catalogs**.\n",
    "\n",
    "![](https://i.imgur.com/zZEOjOb.png)\n",
    "\n",
    "2.  Click the **New catalog** button in the upper-right corner.\n",
    "\n",
    "![](https://i.imgur.com/HFC08fF.png)\n",
    "\n",
    "3.  Give the catalog a **Name**, or copy and paste \n",
    "\n",
    "```markdown \n",
    "Automation\n",
    "``` \n",
    "\n",
    "4. You may add an optional description. \n",
    "\n",
    "5. Click **Create** to provision the catalog.\n",
    "\n",
    "![](https://i.imgur.com/QkmytzN.png)\n",
    "\n",
    "\n",
    "> For this lab, you can leave the rest of the settings as the defaults. \n",
    "\n",
    "6.  The **Automation** catalog will now appear in your list of available catalogs. Return to the main dashboard by clicking the **IBM Cloud Pak for Data** in the upper left hand corner.\n",
    "\n",
    "![](https://i.imgur.com/auThmIq.png)\n",
    "\n",
    "### Create the Automation Project\n",
    "\n",
    "Next, you will create a project. Projects are collaborative workspaces in watsonx where you can analyze data and build assets like notebooks and models.\n",
    "\n",
    "1.  From the navigation menu (**☰**), select **Projects -> All projects**.\n",
    "\n",
    "![](https://i.imgur.com/xTdBjhF.png)\n",
    "\n",
    "2.  Click **New project +**.\n",
    "\n",
    "![](https://i.imgur.com/P32KMcF.png)\n",
    "\n",
    "3.  Next you will need to define the project details, **Copy** and **Paste** into the **Name:** \n",
    "\n",
    "```markdown \n",
    "API Automation Project\n",
    "```\n",
    "\n",
    "4. You may add an optional description, **Copy** and **Paste** into the **Description:** \n",
    "\n",
    "```markdown\n",
    "This project houses the assets used in the API Automation Lab.\n",
    "```\n",
    "\n",
    "5. Click **Create**.\n",
    "\n",
    "![](https://i.imgur.com/bP0kMxU.png)\n",
    "\n",
    "---\n",
    "\n",
    "### Retrieving the Project ID\n",
    "\n",
    "The Jupyter Notebook requires the unique identifier for your project to interact with it via the API. This Project ID must be copied now for use later in the lab.\n",
    "\n",
    "6.  Within your newly created project, navigate to the **Manage** tab.\n",
    "\n",
    "![](https://i.imgur.com/Gz58Rfg.png)\n",
    "\n",
    "7.  Under the **General -> Details** section, locate the **Project ID**. Click the copy icon to copy the ID to your clipboard and save it for a later step.\n",
    "\n",
    "![](https://i.imgur.com/PjOZOrj.png)\n",
    "\n",
    "---\n",
    "\n",
    "> This concludes the environment setup. The subsequent steps of the lab are to be completed within the Jupyter Notebook you have just opened. \n",
    "\n",
    "> Ensure that you keep this page open though because in the appendix you will find environment variables needed throughout the lab. \n",
    "\n",
    "\n",
    "---\n",
    "\n",
    "## Appendix: Environment Variable Configuration (`.env` file)\n",
    "\n",
    "### Overview\n",
    "\n",
    "Before executing the code in the Jupyter Notebook, you must configure your environment variables. An `.env` file is a text file used to store key-value pairs representing configuration variables such as credentials, hostnames, and other parameters required for the script to run.\n",
    "\n",
    "### Purpose\n",
    "\n",
    "Utilizing an `.env` file is a standard practice for several reasons:\n",
    "*   **Security:** It externalizes sensitive information like passwords and API keys from your source code, preventing them from being exposed in version control.\n",
    "*   **Portability:** It allows the same code to be run in different environments (development, testing, production) simply by changing the `.env` file, without any code modifications.\n",
    "\n",
    "### Configuration\n",
    "\n",
    "You will need to create a file named `.env` within your project environment. Copy the contents below into this file and populate the values specific to your environment. The `PROJECT_ID` is the value you copied in Section 3.\n",
    "\n",
    "```bash\n",
    "# Cluster Info\n",
    "CPD_CLUSTER_HOST=\"{THE-ENV-ID}.ocp.techzone.ibm.com\"\n",
    "\n",
    "# User Information\n",
    "USERNAME=\"admin\"\n",
    "PASSWORD=\"adminuser\"\n",
    "\n",
    "# Landing Zone Information\n",
    "CATALOG_NAME=\"Automation\"\n",
    "PROJECT_ID=\"YOUR_PROJECT_ID_HERE\" # Paste the Project ID you copied earlier\n",
    "\n",
    "# PostgreSQL Warehouse Credentials\n",
    "PSQL_DB_USERNAME=\"cpdemo\"\n",
    "PSQL_DB_PASSWORD=\"C!oudP@k4DataDem0s\"\n",
    "PSQL_DB_PORT=\"31128\"\n",
    "PSQL_DB_DATABASE=\"3RDPARTY\"\n",
    "PSQL_DB_HOST=\"85331fa6-6b56-4355-935e-290f3ac8aa8c.8117147f814b4b2ea643610826cd2046.databases.appdomain.cloud\"\n",
    "PSQL_DATASOURCE_TYPE=\"048ed1bf-516c-46f0-ae90-fa3349d8bc1c\"\n",
    "\n",
    "# DB2 Warehouse Credentials\n",
    "DB_USERNAME=\"cpdemo\"\n",
    "DB_PASSWORD=\"C!oudP@k4DataDem0s\"\n",
    "DB_PORT=\"50001\"\n",
    "DB_DATABASE=\"BLUDB\"\n",
    "DB_HOST=\"db2w-ovqfeqq.us-south.db2w.cloud.ibm.com\"\n",
    "DB2_DATASOURCE_TYPE=\"cfdcb449-1204-44ba-baa6-9a8a878e6aa7\"\n",
    "\n",
    "# Cloud Object Storage Credentials\n",
    "COS_BUCKET=\"cpd-outcomes\"\n",
    "COS_SECRET_KEY=\"6f3fafc225b2c8527f22d13e2c67034f4da989dc08adffac\"\n",
    "COS_API_KEY=\"_-W6DMVd3cQV7YrWIdmExhX29ApoDIBAu4y0C07dCMPB\"\n",
    "COS_ACCESS_KEY=\"bd3d4829929a41ac8a2e8e7ab58e5cdb\"\n",
    "COS_RESOURCE_INSTANCE_ID=\"crn:v1:bluemix:public:cloud-object-storage:global:a/feb0a088323a45db90b8dd694b314c53:88ee55e3-fc61-46a9-9ccd-e81593585ba6::\"\n",
    "COS_DATASOURCE_TYPE=\"193a97c1-4475-4a19-b90c-295c4fdc6517\"\n",
    "\n",
    "ORIGIN_COUNTRY=\"us\"\n",
    "```\n",
    "\n",
    "</details>\n",
    "</div>"
   ]
  },
  {
   "cell_type": "markdown",
   "id": "e82a8fe8",
   "metadata": {
    "id": "ddb63da5-0f58-46c7-8cb3-f71a17dbd957"
   },
   "source": [
    "# Section 1: Configuration and Authentication\n",
    "\n",
    "This section prepares you for the IBM Data Intelligence Lab by guiding you through the setup of essential tools and the authentication process for IBM <b>watson<span style=\"color:#0f62fe\">x</span>.data intelligence</b>. The initial steps involve defining key configuration parameters, followed by assistant setup and user sign-in.\n",
    "\n",
    "## Step 1: Defining Environment Variables\n",
    "\n",
    "### Overview\n",
    "Before proceeding, it is necessary to create a `.env` file—a simple text file that contains important details such as your username, password, and data location. These details are referred to as **environment variables**, and they provide configuration instructions for <b>watson<span style=\"color:#0f62fe\">x</span>.data intelligence</b> and IBM Cloud Pak for Data (CPD).\n",
    "\n",
    "### Purpose\n",
    "<b>watson<span style=\"color:#0f62fe\">x</span>.data intelligence</b> requires these parameters to locate and access your data securely. By specifying them in the `.env` file, you ensure efficient and secure operation without repeated manual entry.\n",
    "\n",
    "### Key Concepts\n",
    "- **Environment Variables**: Configuration parameters—such as usernames or URLs—that the system uses to perform its tasks, similar to completing a form before initiating a process.\n",
    "- **.env File**: A digital configuration file containing metadata in a standardized format.\n",
    "- **IBM Cloud Pak for Data (CPD)**: The platform hosting <b>watson<span style=\"color:#0f62fe\">x</span>.data intelligence</b> and related tools.\n",
    "\n",
    "### Instructions\n",
    "Create a file named `.env` in the same directory as this lab script. Use a text editor (e.g., Notepad on Windows or TextEdit on Mac), copy the example below, and update the values as needed. Each line follows the format: `NAME=VALUE`. Example:\n",
    "\n",
    "<!-- Cluster Info -->\n",
    "<table style=\"font-family:'IBM Plex Sans',Arial,sans-serif;border-collapse:collapse;width:100%;margin-bottom:2em;background:#f4f4f4;color:#161616;overflow:hidden;box-shadow:0 2px 8px rgba(0,0,0,0.08);\">\n",
    "<caption style=\"caption-side:top;text-align:left;font-size:1.2em;color:#161616;margin-bottom:0.5em;font-weight:700;\">Cluster Info</caption>\n",
    "<thead>\n",
    "<tr>\n",
    "<th style=\"background:#E0E0E0;color:#161616;text-align:left;text-align:left;font-weight:400;padding:12px 10px;border-bottom:2px solid #F4F4F4;\">Variable</th>\n",
    "<th style=\"background:#E0E0E0;color:#161616;text-align:left;text-align:left;font-weight:400;padding:12px 10px;border-bottom:2px solid #F4F4F4;\">Example Value</th>\n",
    "<th style=\"background:#E0E0E0;color:#161616;text-align:left;text-align:left;font-weight:400;padding:12px 10px;border-bottom:2px solid #F4F4F4;\">Description</th>\n",
    "</tr>\n",
    "</thead>\n",
    "<tbody>\n",
    "<tr style=\"background:#F4F4F4;\">\n",
    "<td style=\"padding:10px;border-bottom:1px solid #F4F4F4;\">CPD_CLUSTER_HOST</td>\n",
    "<td style=\"padding:10px;border-bottom:1px solid #F4F4F4;\">cpd.example.com</td>\n",
    "<td style=\"padding:10px;border-bottom:1px solid #F4F4F4;\">The web address of your IBM Cloud Pak for Data (CPD) system</td>\n",
    "</tr>\n",
    "<tr style=\"background:#F4F4F4;\">\n",
    "<td style=\"padding:10px;border-bottom:1px solid #F4F4F4;\">USERNAME</td>\n",
    "<td style=\"padding:10px;border-bottom:1px solid #F4F4F4;\">admin</td>\n",
    "<td style=\"padding:10px;border-bottom:1px solid #F4F4F4;\">Your username for signing in</td>\n",
    "</tr>\n",
    "<tr style=\"background:#F4F4F4;\">\n",
    "<td style=\"padding:10px;border-bottom:1px solid #F4F4F4;\">PASSWORD</td>\n",
    "<td style=\"padding:10px;border-bottom:1px solid #F4F4F4;\">SecurePass123</td>\n",
    "<td style=\"padding:10px;border-bottom:1px solid #F4F4F4;\">Your password (keep it secret!)</td>\n",
    "</tr>\n",
    "<tr style=\"background:#F4F4F4;\">\n",
    "<td style=\"padding:10px;border-bottom:1px solid #F4F4F4;\">CATALOG_NAME</td>\n",
    "<td style=\"padding:10px;border-bottom:1px solid #F4F4F4;\">MainCatalog</td>\n",
    "<td style=\"padding:10px;border-bottom:1px solid #F4F4F4;\">The name of your catalog in watsonx.data intelligence</td>\n",
    "</tr>\n",
    "<tr style=\"background:#F4F4F4;\">\n",
    "<td style=\"padding:10px;\">PROJECT_ID</td>\n",
    "<td style=\"padding:10px;\">123e4567-e89b-12d3-a456-426614174000</td>\n",
    "<td style=\"padding:10px;\">A unique number for your project</td>\n",
    "</tr>\n",
    "</tbody>\n",
    "</table>\n",
    "\n",
    "<!-- PostgreSQL Warehouse Credentials -->\n",
    "<table style=\"font-family:'IBM Plex Sans',Arial,sans-serif;border-collapse:collapse;width:100%;margin-bottom:2em;background:#F4F4F4;color:#161616;overflow:hidden;box-shadow:0 2px 8px rgba(0,0,0,0.08);\">\n",
    "<caption style=\"caption-side:top;text-align:left;font-size:1.2em;color:#fcfcfc;margin-bottom:0.5em;font-weight:700;\">PostgreSQL Warehouse Credentials</caption>\n",
    "<thead>\n",
    "<tr>\n",
    "<th style=\"background:#E0E0E0;color:#161616;text-align:left;font-weight:400;padding:12px 10px;border-bottom:2px solid #F4F4F4;\">Variable</th>\n",
    "<th style=\"background:#E0E0E0;color:#161616;text-align:left;font-weight:400;padding:12px 10px;border-bottom:2px solid #F4F4F4;\">Example Value</th>\n",
    "<th style=\"background:#E0E0E0;color:#161616;text-align:left;font-weight:400;padding:12px 10px;border-bottom:2px solid #F4F4F4;\">Description</th>\n",
    "</tr>\n",
    "</thead>\n",
    "<tbody>\n",
    "<tr style=\"background:#F4F4F4;\">\n",
    "<td style=\"padding:10px;border-bottom:1px solid #F4F4F4;\">PSQL_DB_USERNAME</td>\n",
    "<td style=\"padding:10px;border-bottom:1px solid #F4F4F4;\">cpdemo</td>\n",
    "<td style=\"padding:10px;border-bottom:1px solid #F4F4F4;\">Username for the PostgreSQL database</td>\n",
    "</tr>\n",
    "<tr style=\"background:#F4F4F4;\">\n",
    "<td style=\"padding:10px;border-bottom:1px solid #F4F4F4;\">PSQL_DB_PASSWORD</td>\n",
    "<td style=\"padding:10px;border-bottom:1px solid #F4F4F4;\">xxxxxxxxxx</td>\n",
    "<td style=\"padding:10px;border-bottom:1px solid #F4F4F4;\">Password for PostgreSQL</td>\n",
    "</tr>\n",
    "<tr style=\"background:#F4F4F4;\">\n",
    "<td style=\"padding:10px;border-bottom:1px solid #F4F4F4;\">PSQL_DB_PORT</td>\n",
    "<td style=\"padding:10px;border-bottom:1px solid #F4F4F4;\">31128</td>\n",
    "<td style=\"padding:10px;border-bottom:1px solid #F4F4F4;\">The door number (port) to connect to PostgreSQL</td>\n",
    "</tr>\n",
    "<tr style=\"background:#F4F4F4;\">\n",
    "<td style=\"padding:10px;border-bottom:1px solid #F4F4F4;\">PSQL_DB_DATABASE</td>\n",
    "<td style=\"padding:10px;border-bottom:1px solid #F4F4F4;\">3RDPARTY</td>\n",
    "<td style=\"padding:10px;border-bottom:1px solid #F4F4F4;\">The name of the PostgreSQL database</td>\n",
    "</tr>\n",
    "<tr style=\"background:#F4F4F4;\">\n",
    "<td style=\"padding:10px;border-bottom:1px solid #F4F4F4;\">PSQL_DB_HOST</td>\n",
    "<td style=\"padding:10px;border-bottom:1px solid #F4F4F4;\">xxxxxxxxxxxxxxxxxxxx.xxxxxxxxxxxxxxxxxxxx.databases.appdomain.cloud</td>\n",
    "<td style=\"padding:10px;border-bottom:1px solid #F4F4F4;\">The address of the PostgreSQL server</td>\n",
    "</tr>\n",
    "<tr style=\"background:#F4F4F4;\">\n",
    "<td style=\"padding:10px;\">PSQL_DATASOURCE_TYPE</td>\n",
    "<td style=\"padding:10px;\">048ed1bf-516c-46f0-ae90-fa3349d8bc1c</td>\n",
    "<td style=\"padding:10px;\">A code identifying PostgreSQL</td>\n",
    "</tr>\n",
    "</tbody>\n",
    "</table>\n",
    "\n",
    "<!-- DB2 Warehouse Credentials -->\n",
    "<table style=\"font-family:'IBM Plex Sans',Arial,sans-serif;border-collapse:collapse;width:100%;margin-bottom:2em;background:#F4F4F4;color:#161616;overflow:hidden;box-shadow:0 2px 8px rgba(0,0,0,0.08);\">\n",
    "<caption style=\"caption-side:top;text-align:left;font-size:1.2em;color:#fcfcfc;margin-bottom:0.5em;font-weight:700;\">DB2 Warehouse Credentials</caption>\n",
    "<thead>\n",
    "<tr>\n",
    "<th style=\"background:#E0E0E0;color:#161616;text-align:left;font-weight:400;padding:12px 10px;border-bottom:2px solid #F4F4F4;\">Variable</th>\n",
    "<th style=\"background:#E0E0E0;color:#161616;text-align:left;font-weight:400;padding:12px 10px;border-bottom:2px solid #F4F4F4;\">Example Value</th>\n",
    "<th style=\"background:#E0E0E0;color:#161616;text-align:left;font-weight:400;padding:12px 10px;border-bottom:2px solid #F4F4F4;\">Description</th>\n",
    "</tr>\n",
    "</thead>\n",
    "<tbody>\n",
    "<tr style=\"background:#F4F4F4;\">\n",
    "<td style=\"padding:10px;border-bottom:1px solid #F4F4F4;\">DB_USERNAME</td>\n",
    "<td style=\"padding:10px;border-bottom:1px solid #F4F4F4;\">cpdemo</td>\n",
    "<td style=\"padding:10px;border-bottom:1px solid #F4F4F4;\">Username for IBM DB2 Warehouse</td>\n",
    "</tr>\n",
    "<tr style=\"background:#F4F4F4;\">\n",
    "<td style=\"padding:10px;border-bottom:1px solid #F4F4F4;\">DB_PASSWORD</td>\n",
    "<td style=\"padding:10px;border-bottom:1px solid #F4F4F4;\">xxxxxxxxxx</td>\n",
    "<td style=\"padding:10px;border-bottom:1px solid #F4F4F4;\">Password for DB2</td>\n",
    "</tr>\n",
    "<tr style=\"background:#F4F4F4;\">\n",
    "<td style=\"padding:10px;border-bottom:1px solid #F4F4F4;\">DB_PORT</td>\n",
    "<td style=\"padding:10px;border-bottom:1px solid #F4F4F4;\">50001</td>\n",
    "<td style=\"padding:10px;border-bottom:1px solid #F4F4F4;\">The port for DB2</td>\n",
    "</tr>\n",
    "<tr style=\"background:#F4F4F4;\">\n",
    "<td style=\"padding:10px;border-bottom:1px solid #F4F4F4;\">DB_DATABASE</td>\n",
    "<td style=\"padding:10px;border-bottom:1px solid #F4F4F4;\">BLUDB</td>\n",
    "<td style=\"padding:10px;border-bottom:1px solid #F4F4F4;\">The name of the DB2 database</td>\n",
    "</tr>\n",
    "<tr style=\"background:#F4F4F4;\">\n",
    "<td style=\"padding:10px;border-bottom:1px solid #F4F4F4;\">DB_HOST</td>\n",
    "<td style=\"padding:10px;border-bottom:1px solid #F4F4F4;\">xxxxxxxxxx.us-south.db2w.cloud.ibm.com</td>\n",
    "<td style=\"padding:10px;border-bottom:1px solid #F4F4F4;\">The address of the DB2 server</td>\n",
    "</tr>\n",
    "<tr style=\"background:#F4F4F4;\">\n",
    "<td style=\"padding:10px;\">DB2_DATASOURCE_TYPE</td>\n",
    "<td style=\"padding:10px;\">cfdcb449-1204-44ba-baa6-9a8a878e6aa7</td>\n",
    "<td style=\"padding:10px;\">A code identifying DB2</td>\n",
    "</tr>\n",
    "</tbody>\n",
    "</table>\n",
    "\n",
    "<!-- Cloud Object Storage Credentials -->\n",
    "<table style=\"font-family:'IBM Plex Sans',Arial,sans-serif;border-collapse:collapse;width:100%;margin-bottom:2em;background:#F4F4F4;color:#161616;overflow:hidden;box-shadow:0 2px 8px rgba(0,0,0,0.08);\">\n",
    "<caption style=\"caption-side:top;text-align:left;font-size:1.2em;color:#fcfcfc;margin-bottom:0.5em;font-weight:700;\">Cloud Object Storage Credentials</caption>\n",
    "<thead>\n",
    "<tr>\n",
    "<th style=\"background:#E0E0E0;color:#161616;text-align:left;font-weight:400;padding:12px 10px;border-bottom:2px solid #F4F4F4;\">Variable</th>\n",
    "<th style=\"background:#E0E0E0;color:#161616;text-align:left;font-weight:400;padding:12px 10px;border-bottom:2px solid #F4F4F4;\">Example Value</th>\n",
    "<th style=\"background:#E0E0E0;color:#161616;text-align:left;font-weight:400;padding:12px 10px;border-bottom:2px solid #F4F4F4;\">Description</th>\n",
    "</tr>\n",
    "</thead>\n",
    "<tbody>\n",
    "<tr style=\"background:#F4F4F4;\">\n",
    "<td style=\"padding:10px;border-bottom:1px solid #F4F4F4;\">COS_BUCKET</td>\n",
    "<td style=\"padding:10px;border-bottom:1px solid #F4F4F4;\">cpd-outcomes</td>\n",
    "<td style=\"padding:10px;border-bottom:1px solid #F4F4F4;\">The name of your storage bucket in IBM Cloud Object Storage</td>\n",
    "</tr>\n",
    "<tr style=\"background:#F4F4F4;\">\n",
    "<td style=\"padding:10px;border-bottom:1px solid #F4F4F4;\">COS_SECRET_KEY</td>\n",
    "<td style=\"padding:10px;border-bottom:1px solid #F4F4F4;\">xxxxxxxxxx</td>\n",
    "<td style=\"padding:10px;border-bottom:1px solid #F4F4F4;\">A secret code for accessing storage</td>\n",
    "</tr>\n",
    "<tr style=\"background:#F4F4F4;\">\n",
    "<td style=\"padding:10px;border-bottom:1px solid #F4F4F4;\">COS_API_KEY</td>\n",
    "<td style=\"padding:10px;border-bottom:1px solid #F4F4F4;\">_-xxxxxxxxxxxxxxxxxxxxxxxxxxxxxx</td>\n",
    "<td style=\"padding:10px;border-bottom:1px solid #F4F4F4;\">Another key for secure access</td>\n",
    "</tr>\n",
    "<tr style=\"background:#F4F4F4;\">\n",
    "<td style=\"padding:10px;border-bottom:1px solid #F4F4F4;\">COS_ACCESS_KEY</td>\n",
    "<td style=\"padding:10px;border-bottom:1px solid #F4F4F4;\">xxxxxxxxxxxxxxxxxxxx</td>\n",
    "<td style=\"padding:10px;border-bottom:1px solid #F4F4F4;\">A key to unlock your storage box</td>\n",
    "</tr>\n",
    "<tr style=\"background:#F4F4F4;\">\n",
    "<td style=\"padding:10px;border-bottom:1px solid #F4F4F4;\">COS_RESOURCE_INSTANCE_ID</td>\n",
    "<td style=\"padding:10px;border-bottom:1px solid #F4F4F4;\">crn:v1:bluemix:public:cloud-object-storage:global:a/xxxxxxxxxxxxxxxxxxxx:xxxxxxxxxx-xxxxxxxxxx-xxxxxxxxxx::</td>\n",
    "<td style=\"padding:10px;border-bottom:1px solid #F4F4F4;\">A long ID for your storage service</td>\n",
    "</tr>\n",
    "<tr style=\"background:#F4F4F4;\">\n",
    "<td style=\"padding:10px;border-bottom:1px solid #F4F4F4;\">COS_DATASOURCE_TYPE</td>\n",
    "<td style=\"padding:10px;border-bottom:1px solid #F4F4F4;\">193a97c1-4475-4a19-b90c-295c4fdc6517</td>\n",
    "<td style=\"padding:10px;border-bottom:1px solid #F4F4F4;\">A code identifying Cloud Object Storage</td>\n",
    "</tr>\n",
    "<tr style=\"background:#F4F4F4;\">\n",
    "<td style=\"padding:10px;\">ORIGIN_COUNTRY</td>\n",
    "<td style=\"padding:10px;\">us</td>\n",
    "<td style=\"padding:10px;\">The country where your data is managed (e.g., United States)</td>\n",
    "</tr>\n",
    "</tbody>\n",
    "</table>"
   ]
  },
  {
   "cell_type": "markdown",
   "id": "6f3ba827",
   "metadata": {
    "vscode": {
     "languageId": "shellscript"
    }
   },
   "source": [
    "---\n",
    "\n",
    "Please copy and paste the environment variables found at the bottom of the lab guide into the block below. These variables are required for proper configuration and authentication throughout the lab.\n",
    "\n",
    "Ensure you include all variables as provided.\n",
    "\n",
    "<div class=\"alert alert-block alert-warning\">\n",
    "<strong>Warning:</strong> Make sure all content remains inside the triple quotes (`\"\"\"`). There should be no spaces between variable names and their values (e.g., `NAME=VALUE`). Incorrect formatting may cause errors in subsequent steps.\n",
    "</div>\n",
    "\n",
    "<div class=\"alert alert-block alert-warning\">\n",
    "<strong>IMPORTANT:</strong> Ensure that you update the CPD CLUSTER HOST, USERNAME, and PASSWORD variables with your own values.\n",
    "</div>"
   ]
  },
  {
   "cell_type": "code",
   "execution_count": null,
   "id": "8449abdc",
   "metadata": {
    "id": "b90d4093-ffd1-41af-a520-a93cee3395fb",
    "vscode": {
     "languageId": "shellscript"
    }
   },
   "outputs": [],
   "source": [
    "# Define the environment variables content\n",
    "env_content = \"\"\"\n",
    "CPD_CLUSTER_HOST=REPLACE_WITH_YOUR_CLUSTER_HOST\n",
    "\n",
    "# User Information\n",
    "USERNAME=admin\n",
    "PASSWORD=REPLACE_WITH_YOUR_PASSWORD\n",
    "\n",
    "# Landing Zone Information\n",
    "CATALOG_NAME=REPLACE_WITH_YOUR_CATALOG_NAME\n",
    "PROJECT_ID=REPLACE_WITH_YOUR_PROJECT_ID\n",
    "PROJECT_NAME=REPLACE_WITH_YOUR_PROJECT_NAME\n",
    "\n",
    "...COPY AND PASTE THE REST OF THE ENVIRONMENT VARIABLES HERE - CAN BE FOUND IN THE LAB GUIDE...\n",
    "\n",
    "\"\"\""
   ]
  },
  {
   "cell_type": "markdown",
   "id": "4e0f1f26",
   "metadata": {},
   "source": [
    "Next you will need to write the `.env` variables to a file accessible by the Jupyter Notebook. \n",
    "\n",
    "To do so you will need to define the path and write the variables to a file named `.env` in the current working directory."
   ]
  },
  {
   "cell_type": "code",
   "execution_count": null,
   "id": "ccba1d89-0a48-4b62-800c-9e8f90cd33c5",
   "metadata": {
    "id": "ccba1d89-0a48-4b62-800c-9e8f90cd33c5",
    "vscode": {
     "languageId": "shellscript"
    }
   },
   "outputs": [
    {
     "name": "stdout",
     "output_type": "stream",
     "text": [
      ".env file created at ./.env\n"
     ]
    }
   ],
   "source": [
    "# Define the path for the .env file\n",
    "env_file_path = './.env'\n",
    "\n",
    "# Write the content to the .env file\n",
    "with open(env_file_path, 'w') as env_file:\n",
    "    env_file.write(env_content)\n",
    "\n",
    "print(f\".env file created at {env_file_path}\")"
   ]
  },
  {
   "cell_type": "markdown",
   "id": "5275c355",
   "metadata": {
    "id": "ca1e96d6-558b-4061-8261-f20fba131dcc"
   },
   "source": [
    "<div class=\"alert alert-block alert-success\"> <b>SUCCESS:</b> You have successfully create the `.env` file. Now that it is ready, it is time to use it!</div>"
   ]
  },
  {
   "cell_type": "markdown",
   "id": "4a28c159",
   "metadata": {
    "id": "e317f5e3-db1b-472b-be20-2c7d8c648fa9"
   },
   "source": [
    "## Step 2: Initializing the ImportClient\n",
    "\n",
    "Before proceeding, ensure you have downloaded all required scripts for this lab. These scripts are essential for automating the data import and management tasks.\n",
    "\n",
    "### Overview\n",
    "With your `.env` file prepared, the next step is to initialize the `ImportClient` program. This utility acts as your personal assistant, reading the `.env` file to obtain your credentials and the location of your IBM Cloud Pak for Data (CPD) instance. Using this information, it establishes a secure connection to the environment where <b>watson<span style=\"color:#0f62fe\">x</span>.data intelligence</b> operates.\n",
    "\n",
    "### Purpose\n",
    "<b>watson<span style=\"color:#0f62fe\">x</span>.data intelligence</b> requires accurate user credentials and system location details to access and manage your data assets. Initializing the ImportClient ensures that all necessary configurations are in place, enabling seamless management of data such as employee records or customer files.\n",
    "\n",
    "### Key Concepts\n",
    "- <b>watson<span style=\"color:#0f62fe\">x</span>.data intelligence</b>: A platform for organizing, governing, and enabling discovery of your data assets.\n",
    "- **ImportClient**: A Python module designed to automate Data Intelligence tasks.\n",
    "- **Data Assets**: Collections of information, such as employee or customer lists, that require organization and governance.\n",
    "\n",
    "### Expected Outcome\n",
    "Upon successful initialization, you will see confirmation that the ImportClient is ready and has retrieved your login details from the `.env` file."
   ]
  },
  {
   "cell_type": "markdown",
   "id": "13211663",
   "metadata": {},
   "source": [
    "### Download the reqired scripts"
   ]
  },
  {
   "cell_type": "code",
   "execution_count": null,
   "id": "6956af05-a968-43eb-9c64-f23d8ea69229",
   "metadata": {
    "id": "6956af05-a968-43eb-9c64-f23d8ea69229",
    "vscode": {
     "languageId": "shellscript"
    }
   },
   "outputs": [
    {
     "name": "stdout",
     "output_type": "stream",
     "text": [
      "Complete\n"
     ]
    }
   ],
   "source": [
    "# Downloads the Import Client code and the governance artifacts zip file to the current working directory.\n",
    "!wget https://raw.githubusercontent.com/taylorsegell/L4-Deploy/refs/heads/main/Lab/client.py -q\n",
    "!wget https://github.com/taylorsegell/L4-Deploy/raw/main/Lab/governance_artifacts.zip -q\n",
    "# Suppress the output of the pip install command\n",
    "!pip install cowsay > /dev/null 2>&1\n",
    "print(\"Complete\")"
   ]
  },
  {
   "cell_type": "markdown",
   "id": "42743546",
   "metadata": {
    "vscode": {
     "languageId": "shellscript"
    }
   },
   "source": [
    "### Initalize the Import Client"
   ]
  },
  {
   "cell_type": "code",
   "execution_count": null,
   "id": "0a2b7d79",
   "metadata": {
    "id": "bcb33307-263b-4e09-b514-e6dbb027442e",
    "vscode": {
     "languageId": "shellscript"
    }
   },
   "outputs": [
    {
     "name": "stdout",
     "output_type": "stream",
     "text": [
      "🎉 Your ImportClient is ready to rock!\n",
      "It found your login details in a file called '.env'—like a secret note with your username and server address.\n",
      "This assistant will connect to watsonx.data intelligence Data Governance & Catalog for you.\n",
      "\n"
     ]
    }
   ],
   "source": [
    "from client import ImportClient\n",
    "client = ImportClient()\n",
    "print(\"🎉 Your ImportClient is ready to rock!\")\n",
    "print(\"It found your login details in a file called '.env'—like a secret note with your username and server address.\")\n",
    "print(\"The client will connect to <b>watson<span style=\"color:#0f62fe\">x</span>.data intelligence</b> for you.\")"
   ]
  },
  {
   "cell_type": "markdown",
   "id": "25749082",
   "metadata": {
    "id": "16e29d72-300f-4daf-a520-c0aebe68b0f7"
   },
   "source": [
    "## Step 3: Signing Into IBM Cloud Pak for Data (Authentication)\n",
    "\n",
    "### Overview\n",
    "In this step, you will authenticate with IBM Cloud Pak for Data (CPD) by requesting a **bearer token**. This token serves as a secure digital credential, granting you access to watsonx.data intelligence and other integrated tools. The ImportClient utilizes your username and password from the `.env` file to obtain this token.\n",
    "\n",
    "### Purpose\n",
    "Authentication is essential for maintaining the security and privacy of your data environment. The bearer token acts as a temporary access pass, ensuring that only authorized users can interact with and manage data assets within watsonx.data intelligence and IBM Cloud Pak for Data (CPD).\n",
    "\n",
    "### Key Concepts\n",
    "- **Bearer Token**: A temporary digital credential that authorizes access to secure systems.\n",
    "- **Authentication**: The process of verifying your identity, similar to logging in with a password.\n",
    "\n",
    "### Expected Outcome\n",
    "Upon successful authentication, you will receive a confirmation message displaying a portion of your token. If authentication fails, a warning will appear—typically indicating an issue with the username or password specified in your `.env` file."
   ]
  },
  {
   "cell_type": "code",
   "execution_count": null,
   "id": "d1cde350",
   "metadata": {
    "id": "94f2e6ed-4639-4f87-a3f9-fa7a84de3ff5",
    "vscode": {
     "languageId": "shellscript"
    }
   },
   "outputs": [
    {
     "name": "stdout",
     "output_type": "stream",
     "text": [
      "🔑 You got your digital ID badge (bearer token) successfully!\n",
      "Here’s a small piece of it: eyJhbGciOiJSUzI1NiIs... (it’s long, so we won’t show it all)\n",
      "This badge lets us work securely with watsonx.data intelligence Data Governance & Catalog.\n",
      "\n"
     ]
    }
   ],
   "source": [
    "bearer_token = client.get_bearer_token()\n",
    "if bearer_token:\n",
    "    print(\"🔑 You got your digital ID badge (bearer token) successfully!\")\n",
    "    print(f\"Here’s a small piece of it: {bearer_token[:20]}... (it’s long, so we won’t show it all)\")\n",
    "    print(\"This badge lets us work securely with watsonx.data intelligence.\")\n",
    "else:\n",
    "    print(\"❌ Oops! Couldn’t get the badge. Check your .env file—make sure your username and password are correct.\")\n",
    "print(\"\")"
   ]
  },
  {
   "cell_type": "markdown",
   "id": "ad190c42",
   "metadata": {
    "id": "6f3cfa77-f6dd-4273-beb7-47a72c8750e0"
   },
   "source": [
    "---\n",
    "<h2 style=\"color:#0f62fe\"> Section 2: Connecting Data Sources to watsonx.data intelligence</h2>\n",
    "\n",
    "---\n",
    "\n",
    "With authentication complete, the next step is to connect <b>watson<span style=\"color:#0f62fe\">x</span>.data intelligence</b> to your organization's data repositories. This process is similar to informing a librarian where to locate specific bookshelves. In this section, we will establish connections to three distinct storage systems.\n",
    "\n",
    "## Step 1: Connecting IBM Cloud Object Storage\n",
    "\n",
    "### Overview\n",
    "We are linking <b>watson<span style=\"color:#0f62fe\">x</span>.data intelligence</b> to IBM Cloud Object Storage, a secure cloud-based storage solution. This is where your organization stores files, such as warehouse worker lists saved in CSV (Comma-Separated Values) format—essentially simple spreadsheets.\n",
    "\n",
    "### Purpose\n",
    "Establishing this connection enables watsonx.data intelligence to organize files, enforce governance policies (such as access controls), and facilitate sharing through **IBM Data Product Hub**. Additionally, it allows for comprehensive tracking of file origins and usage.\n",
    "\n",
    "### Key Concepts\n",
    "- **IBM Cloud Object Storage**: A scalable online storage platform, analogous to a digital filing cabinet, used for storing various business files.\n",
    "- **CSV (Comma-Separated Values) Files**: Structured text files where data items are separated by commas, making them easily readable and processable by computers.\n",
    "\n",
    "### Expected Outcome\n",
    "Upon successful connection, you will receive a confirmation message along with a unique identifier for the IBM Cloud Object Storage resource."
   ]
  },
  {
   "cell_type": "code",
   "execution_count": null,
   "id": "0425fae9",
   "metadata": {
    "id": "a2ba294b-a263-411c-b889-1a884692afc8",
    "vscode": {
     "languageId": "shellscript"
    }
   },
   "outputs": [
    {
     "name": "stdout",
     "output_type": "stream",
     "text": [
      "☁️ Connecting to IBM Cloud Object Storage\n",
      "This is your online storage box where warehouse worker lists are kept—like digital spreadsheets!\n",
      "Connection to \u001b[1;34mCloud Object Storage\u001b[0m defined successfully!\n",
      "\n",
      "Connected! Your IBM Cloud Object Storage ID is: 9f97a133-88d5-445d-b7a9-88848362d237\n",
      "watsonx.data intelligence Data Governance & Catalog can now see these files.\n"
     ]
    }
   ],
   "source": [
    "print(\"☁️ Connecting to IBM Cloud Object Storage\")\n",
    "client.define_cos_connection(bearer_token, catalog=False)\n",
    "print(f\"\\nConnected! Your IBM Cloud Object Storage ID is: {client.cos_id}\")\n",
    "print(\"watsonx.data intelligence now has access to Cloud Object Storage.\")"
   ]
  },
  {
   "cell_type": "markdown",
   "id": "cb95a573",
   "metadata": {
    "id": "bd773b17-c47f-42e1-b5e2-48e727fd1954"
   },
   "source": [
    "## Step 2: Connecting IBM DB2 Warehouse\n",
    "\n",
    "### Overview\n",
    "We are establishing a connection between <b>watson<span style=\"color:#0f62fe\">x</span>.data intelligence</b> and IBM DB2 Warehouse, a robust database system designed to store structured data in organized tables—such as employee names, job titles, and work histories.\n",
    "\n",
    "### Purpose\n",
    "This connection enables watsonx.data intelligence to efficiently organize and govern employee data, ensuring compliance with company policies. It also facilitates data sharing through **IBM Data Product Hub** and allows for comprehensive tracking of data lineage.\n",
    "\n",
    "### Key Concepts\n",
    "- **IBM DB2 Warehouse**: An enterprise-grade platform for managing structured data, utilizing tables with rows and columns to store business information.\n",
    "- **Database**: A system for storing data in a structured and accessible format.\n",
    "\n",
    "### Expected Outcome\n",
    "Upon successful connection, you will receive a confirmation message along with a unique identifier for the IBM DB2 Warehouse resource."
   ]
  },
  {
   "cell_type": "code",
   "execution_count": null,
   "id": "b7b6bfad",
   "metadata": {
    "id": "c52903a5-9aa9-49d4-a5aa-c81d4be4a0bf",
    "vscode": {
     "languageId": "shellscript"
    }
   },
   "outputs": [
    {
     "name": "stdout",
     "output_type": "stream",
     "text": [
      "🏢 Connecting to IBM DB2 Warehouse\n",
      "Connection to \u001b[1;34mDB2 Warehouse\u001b[0m defined successfully!\n",
      "\n",
      "Connected! Your IBM DB2 Warehouse ID is: e50f019e-fdd8-4634-b4f8-3a2fb4b174a4\n",
      "watsonx.data intelligence can now see this employee data.\n"
     ]
    }
   ],
   "source": [
    "print(\"🏢 Connecting to IBM DB2 Warehouse\")\n",
    "\n",
    "client.define_db2_connection(bearer_token, catalog=False)\n",
    "print(f\"\\nConnected! Your IBM DB2 Warehouse ID is: {client.db2_id}\")\n",
    "print(\"watsonx.data intelligence can now see this employee data.\")"
   ]
  },
  {
   "cell_type": "markdown",
   "id": "746e9eab",
   "metadata": {
    "id": "d2e1c6f8-4d2b-4c13-a1c3-db6824bcdada"
   },
   "source": [
    "## Step 3: Connecting PostgreSQL\n",
    "\n",
    "### Overview\n",
    "We are establishing a connection between <b>watson<span style=\"color:#0f62fe\">x</span>.data intelligence</b> and PostgreSQL, an open-source database system that stores customer-related information, such as loyalty program details.\n",
    "\n",
    "### Purpose\n",
    "This connection enables watsonx.data intelligence to efficiently organize and govern customer data, apply relevant policies, and prepare the data for sharing through **IBM Data Product Hub** or for lineage tracking within <b>watson<span style=\"color:#0f62fe\">x</span>.data intelligence</b>.\n",
    "\n",
    "### Key Concept\n",
    "- **PostgreSQL**: A widely used open-source database platform, ideal for managing structured customer information.\n",
    "\n",
    "### Expected Outcome\n",
    "Upon successful connection, you will receive a confirmation message along with a unique identifier for the PostgreSQL resource."
   ]
  },
  {
   "cell_type": "code",
   "execution_count": null,
   "id": "0d2db740",
   "metadata": {
    "id": "01adb599-d39a-4544-93c1-673c1842e944",
    "vscode": {
     "languageId": "shellscript"
    }
   },
   "outputs": [
    {
     "name": "stdout",
     "output_type": "stream",
     "text": [
      "🐘 Connecting to PostgreSQL\n",
      "Connection to \u001b[1;34m PostgreSQL\u001b[0m defined successfully!\n",
      "Connected! Your PostgreSQL ID is: 4f03201c-0e17-479d-9a28-6c4b67e58bcb\n",
      "watsonx.data intelligence can now work with this customer data.\n"
     ]
    }
   ],
   "source": [
    "print(\"🐘 Connecting to PostgreSQL\")\n",
    "\n",
    "client.define_psql_connection(bearer_token, catalog=False)\n",
    "print(f\"Connected! Your PostgreSQL ID is: {client.psql_id}\")\n",
    "print(\"watsonx.data intelligence can now work with this customer data.\")\n"
   ]
  },
  {
   "cell_type": "markdown",
   "id": "32fce73a",
   "metadata": {
    "id": "a288df33-6eca-47a9-948c-a9f1e4ec7bff"
   },
   "source": [
    "---\n",
    "<h2 style=\"color:#0f62fe\">Section 3: Importing  metadata into watsonx.data intelligence</h2>\n",
    "\n",
    "---\n",
    "\n",
    "Now we’re going to bring the metadata of the data into <b>watson<span style=\"color:#0f62fe\">x</span>.data intelligence</b> \n",
    "\n",
    "## Step 1: Importing in IBM DB2 Warehouse Metadata\n",
    "\n",
    "### What’s Happening?\n",
    "We’re telling <b>watson<span style=\"color:#0f62fe\">x</span>.data intelligence</b>  to look at specific tables in IBM DB2 Warehouse—like employee history and records—and bring in their metadata, such as column names and data types.\n",
    "\n",
    "### Why Are We Doing This?\n",
    "<b>watson<span style=\"color:#0f62fe\">x</span>.data intelligence</b> needs this metadata to organize the data, apply rules (like hiding sensitive info), and let **IBM Data Product Hub** and <b>watson<span style=\"color:#0f62fe\">x</span>.data intelligence</b>  use it later.\n",
    "\n",
    "### Simple Explanation\n",
    "- **Metadata**: Information about your data, like the table of contents in a book—tells you what’s inside without showing the whole story.\n",
    "- **Tables**: Organized sections in a database, like pages in a notebook with employee names and jobs.\n",
    "\n",
    "### What You’ll See\n",
    "You’ll see the tables listed, a job ID number, and a status message.\n"
   ]
  },
  {
   "cell_type": "code",
   "execution_count": null,
   "id": "75707ffa",
   "metadata": {
    "id": "b36ef272-50fb-408b-8763-24974351c81e",
    "vscode": {
     "languageId": "shellscript"
    }
   },
   "outputs": [
    {
     "name": "stdout",
     "output_type": "stream",
     "text": [
      "🏢 Bringing IBM DB2 Warehouse details into your project\n",
      "We’re grabbing details about employee tables—like what’s in each column!\n",
      " - Looking at: /EMPLOYEE/EMPLOYEE_HISTORY\n",
      " - Looking at: /EMPLOYEE/EMPLOYEE_RECORDS\n",
      " - Looking at: /EMPLOYEE/EMPLOYEE_SUMMARY\n",
      " - Looking at: /EMPLOYEE/EMPLOYEE\n",
      "MDI Creation Response: 201\n",
      "Job Creation Response: 201\n",
      "Patch MDI Response: 200\n",
      "Run Job Response: 201\n",
      "\n",
      "Job ID for this task: ffe6b437-acfc-425d-bc51-416b8e0e1207\n",
      "Status: Not Available\n",
      "These details are now in your project for organizing!\n"
     ]
    }
   ],
   "source": [
    "print(\"🏢 Importing IBM DB2 Warehouse metadata into your project\")\n",
    "\n",
    "paths_db2 = [\"/EMPLOYEE/EMPLOYEE_HISTORY\", \"/EMPLOYEE/EMPLOYEE_RECORDS\",\n",
    "             \"/EMPLOYEE/EMPLOYEE_SUMMARY\", \"/EMPLOYEE/EMPLOYEE\"]\n",
    "for path in paths_db2:\n",
    "    print(f\" - Looking at: {path}\")\n",
    "db2_mdid, db2_mdi_response = client.create_and_run_metadata_import(\n",
    "    client.db2_id, paths_db2, name=\"IKC DB2 Metadata Import\"\n",
    ")\n",
    "print(f\"Job ID for this task: {db2_mdid}\")\n",
    "print(\"Status:\", db2_mdi_response.get('metadata', {}).get('status', 'Not Available'))\n",
    "print(\"The metadata import is complete and now in your project!\")\n"
   ]
  },
  {
   "cell_type": "markdown",
   "id": "9320abc3",
   "metadata": {
    "id": "dfd392bf-70d2-4d1b-8cc9-debdcec63f01"
   },
   "source": [
    "## Step 2: Importing in IBM Cloud Object Storage Metadata\n",
    "\n",
    "### What’s Happening?\n",
    "We’re asking <b>watson<span style=\"color:#0f62fe\">x</span>.data intelligence</b>  to pull in metadata about CSV (Comma-Separated Values) files from IBM Cloud Object Storage—like worker schedules and staff lists.\n",
    "\n",
    "### Why Are We Doing This?\n",
    "watsonx.data intelligence uses this metadata to keep track of your files, apply company rules, and make them ready for **IBM Data Product Hub** and watsonx.data intelligence Data Lineage.\n",
    "\n",
    "### Simple Explanation\n",
    "- **CSV (Comma-Separated Values) Files**: Simple lists where items are separated by commas, like “Name, Job, Hours”.\n",
    "\n",
    "### What You’ll See\n",
    "You’ll see the file names, a job ID, and a status update.\n"
   ]
  },
  {
   "cell_type": "code",
   "execution_count": null,
   "id": "c4b6b0dd",
   "metadata": {
    "id": "4d420142-2c3a-4e06-923b-0334911ddb09",
    "vscode": {
     "languageId": "shellscript"
    }
   },
   "outputs": [
    {
     "name": "stdout",
     "output_type": "stream",
     "text": [
      "☁️ Bringing IBM Cloud Object Storage details into **watsonx.data intelligence Data Governance & Catalog**\n",
      " - Looking at: /cpd-outcomes/Warehouse/WAREHOUSE_ASSIGNED_SHIFTS.csv\n",
      " - Looking at: /cpd-outcomes/Warehouse/WAREHOUSE_SHIFTS.csv\n",
      " - Looking at: /cpd-outcomes/Warehouse/WAREHOUSE_STAFF.csv\n",
      " - Looking at: /cpd-outcomes/Warehouse/WAREHOUSE_STAFFING.csv\n",
      "MDI Creation Response: 201\n",
      "Job Creation Response: 201\n",
      "Patch MDI Response: 200\n",
      "Run Job Response: 201\n",
      "\n",
      "Job ID for this task: d5133800-1e1d-4154-990c-7fe4cd51ab0d\n",
      "Status: Not Available\n",
      "The metadata import is complete and now in your project!\n"
     ]
    }
   ],
   "source": [
    "print(\"☁️ Importing IBM Cloud Object Storage metadata into watsonx.data intelligence\")\n",
    "\n",
    "paths_cos = [\"/cpd-outcomes/Warehouse/WAREHOUSE_ASSIGNED_SHIFTS.csv\",\n",
    "             \"/cpd-outcomes/Warehouse/WAREHOUSE_SHIFTS.csv\",\n",
    "             \"/cpd-outcomes/Warehouse/WAREHOUSE_STAFF.csv\",\n",
    "             \"/cpd-outcomes/Warehouse/WAREHOUSE_STAFFING.csv\"]\n",
    "for path in paths_cos:\n",
    "    print(f\" - Looking at: {path}\")\n",
    "cos_mdid, cos_mdi_response = client.create_and_run_metadata_import(\n",
    "    client.cos_id, paths_cos, name=\"IKC COS Metadata Import\"\n",
    ")\n",
    "print(f\"Job ID for this task: {cos_mdid}\")\n",
    "print(\"Status:\", cos_mdi_response.get('metadata', {}).get('status', 'Not Available'))\n",
    "print(\"The metadata import is complete and now in your project!\")\n"
   ]
  },
  {
   "cell_type": "markdown",
   "id": "ee5cb216",
   "metadata": {
    "id": "e38d1492-5d8d-4830-8326-c9aba915c344"
   },
   "source": [
    "## Step 3: Importing in PostgreSQL Metadata\n",
    "\n",
    "### What’s Happening?\n",
    "We’re getting metadata from PostgreSQL about customer loyalty data—like who’s in the program—and adding them to <b>watson<span style=\"color:#0f62fe\">x</span>.data intelligence</b> .\n",
    "\n",
    "### Why Are We Doing This?\n",
    "This helps <b>watson<span style=\"color:#0f62fe\">x</span>.data intelligence</b>  organize customer info, keep it safe, and prepare it for other tools like IBM Data Product Hub.\n",
    "\n",
    "### Simple Explanation\n",
    "- **Metadata**: The “about” info for your data, like a label on a jar saying “Customer Loyalty”.\n",
    "\n",
    "### What You’ll See\n",
    "You’ll see the table name, a job ID, and a status message."
   ]
  },
  {
   "cell_type": "code",
   "execution_count": null,
   "id": "82687366",
   "metadata": {
    "id": "f81e00fe-b068-40f9-8278-67e01df49a85",
    "vscode": {
     "languageId": "shellscript"
    }
   },
   "outputs": [
    {
     "ename": "",
     "evalue": "",
     "output_type": "error",
     "traceback": [
      "\u001b[1;31mFailed to start the Kernel. \n",
      "\u001b[1;31mView Jupyter <a href='command:jupyter.viewOutput'>log</a> for further details."
     ]
    }
   ],
   "source": [
    "print(\"🐘 Importing PostgreSQL metadata into your project\")\n",
    "\n",
    "paths_psql = [\"/CUSTOMER/CUSTOMER_LOYALTY\"]\n",
    "for path in paths_psql:\n",
    "    print(f\" - Looking at: {path}\")\n",
    "psql_mdid, psql_mdi_response = client.create_and_run_metadata_import(\n",
    "    client.psql_id, paths_psql, name=\"IKC PostgreSQL Metadata Import\"\n",
    ")\n",
    "print(f\"Job ID for this task: {psql_mdid}\")\n",
    "print(\"Status:\", psql_mdi_response.get('metadata', {}).get('status', 'Not Available'))\n",
    "print(\"The metadata import is complete and now in your project!\")"
   ]
  },
  {
   "cell_type": "markdown",
   "id": "7f84437d",
   "metadata": {
    "id": "c691edf8-acdb-4523-be24-db25034065d0"
   },
   "source": [
    "---\n",
    "<h2 style=\"color:blue\"> Section 4: Adding Extra Information to Your Data</h2>\n",
    "\n",
    "---\n",
    "\n",
    "In this section, we enhance your data by appending additional metadata using <b>watson<span style=\"color:#0f62fe\">x</span>.data intelligence</b>, providing clear context and meaning for each data element.\n",
    "\n",
    "## Step 1: Adding Metadata to IBM DB2 Warehouse Data\n",
    "\n",
    "### Overview\n",
    "watsonx.data intelligence analyzes your employee data and enriches it with metadata—such as record counts, business context, and data quality indicators.\n",
    "\n",
    "### Purpose\n",
    "These enhancements improve data clarity and usability within IBM Data Product Hub, while enabling <b>watson<span style=\"color:#0f62fe\">x</span>.data intelligence</b> to maintain comprehensive tracking and lineage.\n",
    "\n",
    "### Key Concepts\n",
    "- **Profiling**: Assessing the contents of the data, such as counting records and summarizing key attributes.\n",
    "- **Term Assignment**: Applying business terminology, for example, “Employee Name” or “Job Title.”\n",
    "- **Quality Analysis**: Evaluating data accuracy and completeness, similar to performing a thorough review.\n",
    "\n",
    "### Expected Outcome\n",
    "You will observe the metadata being added and receive a job ID associated with this enrichment process."
   ]
  },
  {
   "cell_type": "code",
   "execution_count": null,
   "id": "af887421",
   "metadata": {
    "id": "4c915540-3887-4b8e-a7f1-611b412427ff",
    "vscode": {
     "languageId": "shellscript"
    }
   },
   "outputs": [
    {
     "name": "stdout",
     "output_type": "stream",
     "text": [
      "🏢 Enriching data from IBM DB2 Warehouse data in your project\n",
      "IKC DB2 MDE: Metadata Enrichment Creation Response: 201\n",
      "Job ID for this task: 196c0fe1-983b-4a1b-a20e-957428149831\n",
      "Employee data is now enriched!\n"
     ]
    }
   ],
   "source": [
    "print(\"🏢 Enriching data from IBM DB2 Warehouse data in your project\")\n",
    "\n",
    "db2_result = client.create_and_run_metadata_enrichment(\n",
    "    name=\"DB2 Enrichment\",\n",
    "    mdi_id=db2_mdid,\n",
    "    job_name=\"DB2 Enrichment Job\",\n",
    "    publish_job_name=\"DB2 Publish Job\"\n",
    ")\n",
    "db2_mde_id = db2_result.get(\"metadata\", {}).get(\"asset_id\")\n",
    "print(f\"Job ID for this task: {db2_mde_id}\")\n",
    "print(\"Employee data is now enriched!\")"
   ]
  },
  {
   "cell_type": "markdown",
   "id": "421b610a",
   "metadata": {
    "id": "f82bc257-7a36-4e40-ae3d-f7504968fe1d"
   },
   "source": [
    "## Step 2: Adding Metadata to IBM Cloud Object Storage Data\n",
    "\n",
    "### Overview\n",
    "watsonx.data intelligence enriches your warehouse worker files by adding detailed metadata—such as column definitions and data quality indicators.\n",
    "\n",
    "### Purpose\n",
    "This enrichment process enhances the utility of your files for **IBM Data Product Hub** and enables <b>watson<span style=\"color:#0f62fe\">x</span>.data intelligence</b> to maintain comprehensive tracking and governance.\n",
    "\n",
    "### Key Concept\n",
    "- **Enrichment**: The process of appending valuable metadata to your data assets, similar to providing a summary or annotation on a report.\n",
    "\n",
    "### Expected Outcome\n",
    "You will receive enrichment details along with a corresponding job ID."
   ]
  },
  {
   "cell_type": "code",
   "execution_count": null,
   "id": "1647a68a",
   "metadata": {
    "id": "117f0005-1bbb-473c-b2d4-ef5268af60f6",
    "vscode": {
     "languageId": "shellscript"
    }
   },
   "outputs": [
    {
     "name": "stdout",
     "output_type": "stream",
     "text": [
      "🏢 Enriching data from IBM Cloud Object Storage data in your project\n",
      "We’re making warehouse files smarter with automatic analysis!\n",
      "IKC COS Enrichment: Metadata Enrichment Creation Response: 201\n",
      "Job ID for this task: 4bd68e5d-f0d0-4cd1-8089-0eadda08c7cd\n",
      "Warehouse  data is now enriched!\n"
     ]
    }
   ],
   "source": [
    "print(\"🏢 Enriching data from IBM Cloud Object Storage data in your project\")\n",
    "print(\"We’re making warehouse files smarter with automatic analysis!\")\n",
    "cos_result = client.create_and_run_metadata_enrichment(\n",
    "    name=\"COS Enrichment\",\n",
    "    mdi_id=cos_mdid,\n",
    "    job_name=\"COS Enrichment Job\",\n",
    "    publish_job_name=\"COS Publish Job\"\n",
    ")\n",
    "cos_mde_id = cos_result.get(\"metadata\", {}).get(\"asset_id\")\n",
    "print(f\"Job ID for this task: {cos_mde_id}\")\n",
    "print(\"Warehouse  data is now enriched!\")"
   ]
  },
  {
   "cell_type": "markdown",
   "id": "585795ed",
   "metadata": {
    "id": "36d71ed9-56c4-403a-8576-ad54d4e876b8"
   },
   "source": [
    "## Step 3: Adding Metadata to PostgreSQL Data\n",
    "\n",
    "### Overview\n",
    "watsonx.data intelligence is enriching your customer loyalty data by appending relevant metadata.\n",
    "\n",
    "### Purpose\n",
    "This process facilitates data sharing through **IBM Data Product Hub** and enables <b>watson<span style=\"color:#0f62fe\">x</span>.data intelligence</b> to maintain comprehensive data lineage.\n",
    "\n",
    "### Key Concept\n",
    "- **Metadata Enrichment**: The addition of descriptive information to data assets, enhancing their utility and clarity.\n",
    "\n",
    "### Expected Outcome\n",
    "You will observe the enrichment process and receive a job ID associated with this operation."
   ]
  },
  {
   "cell_type": "code",
   "execution_count": null,
   "id": "d767f483",
   "metadata": {
    "id": "fea23950-6ff1-486e-8057-3d1bbfe178b1",
    "vscode": {
     "languageId": "shellscript"
    }
   },
   "outputs": [
    {
     "name": "stdout",
     "output_type": "stream",
     "text": [
      "🏢 Enriching data from PostgreSQL data in your project\n",
      "IKC PostgreSQL MDE: Metadata Enrichment Creation Response: 201\n",
      "Job ID for this task: 2fb1a36d-c147-40a5-bcb0-675345c9ac35\n",
      "Customer data is now enriched!\n"
     ]
    }
   ],
   "source": [
    "print(\"🏢 Enriching data from PostgreSQL data in your project\")\n",
    "\n",
    "psql_result = client.create_and_run_metadata_enrichment(\n",
    "    name=\"PostgreSQL Enrichment\",\n",
    "    mdi_id=psql_mdid,\n",
    "    job_name=\"PostgreSQL Enrichment Job\",\n",
    "    publish_job_name=\"PostgreSQL Publish Job\"\n",
    ")\n",
    "psql_mde_id = psql_result.get(\"metadata\", {}).get(\"asset_id\")\n",
    "print(f\"Job ID for this task: {psql_mde_id}\")\n",
    "print(\"Customer data is now enriched!\")"
   ]
  },
  {
   "cell_type": "markdown",
   "id": "af5387a6",
   "metadata": {
    "id": "f92532dc-9a71-4eee-8f0a-ab930a4ce6cb"
   },
   "source": [
    "---\n",
    "<h2 style=\"color:#0f62fe\">Section 5: Waiting for the Metadata Import to Finish</h2>\n",
    "\n",
    "---\n",
    "\n",
    "## Step 1: Taking a Short Break\n",
    "\n",
    "While <b>watson<span style=\"color:#0f62fe\">x</span>.data intelligence</b> completes the metadata enrichment process, you have two options: you can run the following cell to monitor progress, or take a quick break—grab a coffee, stretch, or relax for a few minutes while the system works in the background.\n",
    "\n",
    "### Overview\n",
    "The enrichment process runs asynchronously, and it may take a few minutes to finish. Allowing this time ensures that all metadata is properly processed before moving on to the next steps.\n",
    "\n",
    "### Key Concept\n",
    "- **Background Processing**: The system is actively enriching your data, similar to a chef preparing a meal while you wait.\n",
    "\n",
    "### Expected Outcome\n",
    "You will see messages indicating the countdown and status of the enrichment process."
   ]
  },
  {
   "cell_type": "code",
   "execution_count": null,
   "id": "e172a679",
   "metadata": {
    "id": "4e734d5a-4444-4737-9770-c71a0c147365",
    "vscode": {
     "languageId": "shellscript"
    }
   },
   "outputs": [
    {
     "name": "stdout",
     "output_type": "stream",
     "text": [
      "⏳ Waiting for **watsonx.data intelligence Data Governance & Catalog** to finish adding details...\n",
      "Taking a 60-second break while the details are added...\n",
      "Taking a 60-second break while the details are added...\n",
      "Taking a 60-second break while the details are added...\n",
      "Waited 180 seconds total—everything should be ready now!\n"
     ]
    }
   ],
   "source": [
    "import time\n",
    "print(\"⏳ Waiting for watsonx.data intelligence to finish enriching metadata...\")\n",
    "for _ in range(3):\n",
    "    print(\"Taking a 60-second break while the metadata is added...\")\n",
    "    time.sleep(60)\n",
    "print(\"Waited 180 seconds total—everything should be ready now!\")"
   ]
  },
  {
   "cell_type": "markdown",
   "id": "013a90bd",
   "metadata": {
    "id": "acf72f31-8336-431d-bdfa-f383840e27e9"
   },
   "source": [
    "---\n",
    "<h2 style=\"color:blue\">Section 6: Sharing Your Data with watsonx.data intelligence</h2>\n",
    "\n",
    "---\n",
    "\n",
    "In this step, your enhanced data is published to the catalog within <b>watson<span style=\"color:#0f62fe\">x</span>.data intelligence</b>, making it accessible and secure for organizational use.\n",
    "\n",
    "## Step 1: Sharing IBM DB2 Warehouse Data\n",
    "\n",
    "### Overview\n",
    "<b>watson<span style=\"color:#0f62fe\">x</span>.data intelligence</b> is instructed to publish your employee data to the catalog—a centralized repository where users can easily discover and access data assets.\n",
    "\n",
    "### Purpose\n",
    "This process ensures that your data is available for team collaboration in **IBM Data Product Hub** and enables <b>watson<span style=\"color:#0f62fe\">x</span>.data intelligence</b> to maintain full data lineage and usage tracking.\n",
    "\n",
    "### Key Concept\n",
    "- **Catalog**: A centralized digital repository within <b>watson<span style=\"color:#0f62fe\">x</span>.data intelligence</b> for storing and discovering governed data assets.\n",
    "\n",
    "### Expected Outcome\n",
    "You will receive a confirmation message and the associated job ID for the publishing operation."
   ]
  },
  {
   "cell_type": "code",
   "execution_count": null,
   "id": "7ae33265",
   "metadata": {
    "id": "8f510578-c0ae-4193-af77-39c47f964406",
    "vscode": {
     "languageId": "shellscript"
    }
   },
   "outputs": [
    {
     "name": "stdout",
     "output_type": "stream",
     "text": [
      "🏢 Sharing IBM DB2 Warehouse data with watsonx.data intelligence\n",
      "Putting employee data on the shelf (ID: 196c0fe1-983b-4a1b-a20e-957428149831)\n",
      "Publish Assets Response: 202, {'job_id': 'b2d983ef-8d21-4631-9e54-052e66565078', 'job_run_id': 'cc4dd315-4944-4965-b38a-13b9dfd69836'}\n",
      "IBM DB2 Warehouse data is shared successfully!\n",
      "Your team can now find and use this employee data in watsonx.data intelligence\n"
     ]
    }
   ],
   "source": [
    "print(\"🏢 Sharing IBM DB2 Warehouse data with watsonx.data intelligence\")\n",
    "print(f\"Putting employee data into the catalog (ID: {db2_mde_id})\")\n",
    "db2_publish_result = client.publish_metadata_enrichment_assets(db2_mde_id)\n",
    "print(\"IBM DB2 Warehouse data is shared successfully!\")\n",
    "print(\"Your team can now find and use this employee data in watsonx.data intelligence\")"
   ]
  },
  {
   "cell_type": "markdown",
   "id": "278b2040",
   "metadata": {
    "id": "44c032a9-afcd-4db7-8eca-5cdae7d52b10"
   },
   "source": [
    "## Step 2: Sharing IBM Cloud Object Storage Data\n",
    "\n",
    "### Overview\n",
    "Your warehouse worker files are being published to the <b>watson<span style=\"color:#0f62fe\">x</span>.data intelligence</b> catalog.\n",
    "\n",
    "### Purpose\n",
    "This enables **IBM Data Product Hub** to utilize the files and allows <b>watson<span style=\"color:#0f62fe\">x</span>.data intelligence</b> to maintain comprehensive data lineage.\n",
    "\n",
    "### Key Concept\n",
    "- **Publishing**: Making data assets available in the catalog for organizational access, similar to displaying a book in a store.\n",
    "\n",
    "### Expected Outcome\n",
    "You will receive a confirmation message and the job ID for the publishing process."
   ]
  },
  {
   "cell_type": "code",
   "execution_count": null,
   "id": "3dbe8cc3",
   "metadata": {
    "id": "6f3fc889-b595-4df0-8848-58231f0561f9",
    "vscode": {
     "languageId": "shellscript"
    }
   },
   "outputs": [
    {
     "name": "stdout",
     "output_type": "stream",
     "text": [
      "☁️ Sharing IBM Cloud Object Storage data with watsonx.data intelligence\n",
      "Putting warehouse files on the shelf (ID: 4bd68e5d-f0d0-4cd1-8089-0eadda08c7cd)\n",
      "Publish Assets Response: 202, {'job_id': '0bf4be78-448a-4e73-bc30-9f38d15d716e', 'job_run_id': '39df4992-4052-41e5-81b7-9c0110920fb1'}\n",
      "IBM Cloud Object Storage data is shared successfully!\n",
      "Your warehouse files are ready in watsonx.data intelligence\n"
     ]
    }
   ],
   "source": [
    "print(\"☁️ Sharing IBM Cloud Object Storage data with watsonx.data intelligence\")\n",
    "print(f\"Putting warehouse files into the catalog (ID: {cos_mde_id})\")\n",
    "cos_publish_result = client.publish_metadata_enrichment_assets(cos_mde_id)\n",
    "print(\"IBM Cloud Object Storage data is shared successfully!\")\n",
    "print(\"Your warehouse files are ready in watsonx.data intelligence\")"
   ]
  },
  {
   "cell_type": "markdown",
   "id": "4578aaf3",
   "metadata": {
    "id": "776e926e-034f-4d37-8a42-0d9140888689"
   },
   "source": [
    "## Step 3: Sharing PostgreSQL Data\n",
    "\n",
    "### Overview\n",
    "Your customer loyalty data is being published to the <b>watson<span style=\"color:#0f62fe\">x</span>.data intelligence</b> catalog.\n",
    "\n",
    "### Purpose\n",
    "This process makes the data accessible for **IBM Data Product Hub** and enables tracking through watsonx.data intelligence Data Lineage.\n",
    "\n",
    "### Key Concept\n",
    "- **Sharing**: Providing secure access to data assets for authorized users via <b>watson<span style=\"color:#0f62fe\">x</span>.data intelligence</b>.\n",
    "\n",
    "### Expected Outcome\n",
    "You will receive a confirmation message and the job ID for the publishing operation."
   ]
  },
  {
   "cell_type": "code",
   "execution_count": null,
   "id": "392a2f53",
   "metadata": {
    "id": "4b505cb8-f585-4c3c-99cc-daf0c1554ced",
    "vscode": {
     "languageId": "shellscript"
    }
   },
   "outputs": [
    {
     "name": "stdout",
     "output_type": "stream",
     "text": [
      "🐘 Sharing PostgreSQL data with watsonx.data intelligence\n",
      "Putting customer data on the shelf (ID: 2fb1a36d-c147-40a5-bcb0-675345c9ac35)\n",
      "Publish Assets Response: 202, {'job_id': '3ff40182-bd8f-4828-b204-f3125a5e035a', 'job_run_id': '34d7767a-c5cf-4700-bd3d-449ed2b340f8'}\n",
      "PostgreSQL data is shared successfully!\n",
      "Your customer data is now in watsonx.data intelligence\n"
     ]
    }
   ],
   "source": [
    "print(\"🐘 Sharing PostgreSQL data with watsonx.data intelligence\")\n",
    "print(f\"Putting customer data into the catalog (ID: {psql_mde_id})\")\n",
    "psql_publish_result = client.publish_metadata_enrichment_assets(psql_mde_id)\n",
    "print(\"PostgreSQL data is shared successfully!\")\n",
    "print(\"Your customer data is now in watsonx.data intelligence\")"
   ]
  },
  {
   "cell_type": "markdown",
   "id": "a1753b19",
   "metadata": {
    "id": "bbf16b6d-a9a3-4279-b0a6-1d1768718ad3"
   },
   "source": [
    "---\n",
    "<h2 style=\"color:blue\">Section 7: Wrapping Up the IBM Data Intelligence Lab</h2>\n",
    "\n",
    "---\n",
    "\n",
    "## Conclusion\n",
    "\n",
    "Congratulations on completing the IBM Data Intelligence Lab. Throughout this experience, you have successfully connected diverse data sources, enriched your data with meaningful metadata, and published governed assets to the <b>watson<span style=\"color:#0f62fe\">x</span>.data intelligence</b> catalog. By leveraging the integrated capabilities of <b>watson<span style=\"color:#0f62fe\">x</span>.data intelligence</b> and **IBM Data Product Hub**, you have established a robust workflow for data governance, quality assurance, and secure sharing across your organization.\n",
    "\n",
    "This lab has demonstrated how automated data lineage, metadata enrichment, and cataloging can streamline data management, enhance transparency, and empower business users to access trusted data assets. You are now equipped to apply these best practices to real-world scenarios, driving greater value and compliance from your enterprise data.\n",
    "\n",
    "Thank you for participating in the IBM Data Intelligence Lab."
   ]
  },
  {
   "cell_type": "markdown",
   "id": "55de5563-6935-4e5d-b2b1-42fc0750adc7",
   "metadata": {
    "id": "55de5563-6935-4e5d-b2b1-42fc0750adc7"
   },
   "source": [
    "<div class=\"alert alert-block alert-success\">\n",
    "    <b>Congratulation:</b> You have successfully automated the process of adding enriched data to a fully governed catalog using the Watson data APIs.\n",
    "</div>"
   ]
  }
 ],
 "metadata": {
  "kernelspec": {
   "display_name": "Bash",
   "language": "bash",
   "name": "bash"
  },
  "language_info": {
   "codemirror_mode": {
    "name": "ipython",
    "version": 3
   },
   "file_extension": ".py",
   "mimetype": "text/x-python",
   "name": "bash",
   "nbconvert_exporter": "python",
   "pygments_lexer": "ipython3",
   "version": "3.11.9"
  }
 },
 "nbformat": 4,
 "nbformat_minor": 5
}
